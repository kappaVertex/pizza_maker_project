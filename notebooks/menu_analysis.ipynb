{
    "cells": [
        {
            "cell_type": "code",
            "execution_count": 1,
            "metadata": {},
            "outputs": [],
            "source": [
                "from maestro_pizza_maker.pizza_menu import PizzaMenu\n",
                "from maestro_pizza_maker.pizza import Pizza\n",
                "from maestro_pizza_maker.ingredients import PizzaIngredients\n"
            ]
        },
        {
            "cell_type": "code",
            "execution_count": 2,
            "metadata": {},
            "outputs": [],
            "source": [
                "# consider following menu\n",
                "pizza_menu = PizzaMenu(\n",
                "    pizzas=[\n",
                "        Pizza(\n",
                "            sauce=PizzaIngredients.CREAM_SAUCE,\n",
                "            dough=PizzaIngredients.CLASSIC_DOUGH,\n",
                "            cheese=[PizzaIngredients.MOZZARELA],\n",
                "            fruits=[PizzaIngredients.PINEAPPLE],\n",
                "            meat=[PizzaIngredients.BACON, PizzaIngredients.HAM],\n",
                "            vegetables=[PizzaIngredients.ONIONS],\n",
                "        ),\n",
                "        Pizza(\n",
                "            sauce=PizzaIngredients.TOMATO_SAUCE,\n",
                "            dough=PizzaIngredients.THIN_DOUGH,\n",
                "            cheese=[PizzaIngredients.CHEDDAR],\n",
                "            fruits=[PizzaIngredients.APPLE],\n",
                "            meat=[PizzaIngredients.SAUSAGE],\n",
                "            vegetables=[PizzaIngredients.MUSHROOMS, PizzaIngredients.PEPPER],\n",
                "        ),\n",
                "        Pizza(\n",
                "            sauce=PizzaIngredients.CREAM_SAUCE,\n",
                "            dough=PizzaIngredients.WHOLEMEAL_DOUGH,\n",
                "            cheese=[PizzaIngredients.MOZZARELA, PizzaIngredients.CHEDDAR],\n",
                "            fruits=[PizzaIngredients.PINEAPPLE, PizzaIngredients.APPLE],\n",
                "            meat=[\n",
                "                PizzaIngredients.BACON,\n",
                "                PizzaIngredients.HAM,\n",
                "                PizzaIngredients.SAUSAGE,\n",
                "            ],\n",
                "            vegetables=[\n",
                "                PizzaIngredients.MUSHROOMS,\n",
                "                PizzaIngredients.ONIONS,\n",
                "                PizzaIngredients.PEPPER,\n",
                "            ],\n",
                "        ),\n",
                "        Pizza(\n",
                "            sauce=PizzaIngredients.TOMATO_SAUCE,\n",
                "            dough=PizzaIngredients.CLASSIC_DOUGH,\n",
                "            cheese=[PizzaIngredients.MOZZARELA],\n",
                "            fruits=[PizzaIngredients.PINEAPPLE],\n",
                "            meat=[PizzaIngredients.BACON, PizzaIngredients.HAM],\n",
                "            vegetables=[PizzaIngredients.ONIONS],\n",
                "        ),\n",
                "        Pizza(\n",
                "            sauce=PizzaIngredients.CREAM_SAUCE,\n",
                "            dough=PizzaIngredients.THIN_DOUGH,\n",
                "            cheese=[PizzaIngredients.CHEDDAR],\n",
                "            fruits=[PizzaIngredients.APPLE],\n",
                "            meat=[PizzaIngredients.SAUSAGE],\n",
                "            vegetables=[PizzaIngredients.MUSHROOMS, PizzaIngredients.PEPPER],\n",
                "        ),\n",
                "        Pizza(\n",
                "            sauce=PizzaIngredients.TOMATO_SAUCE,\n",
                "            dough=PizzaIngredients.WHOLEMEAL_DOUGH,\n",
                "            cheese=[PizzaIngredients.MOZZARELA, PizzaIngredients.CHEDDAR],\n",
                "            fruits=[PizzaIngredients.PINEAPPLE, PizzaIngredients.APPLE],\n",
                "            meat=[\n",
                "                PizzaIngredients.BACON,\n",
                "                PizzaIngredients.HAM,\n",
                "                PizzaIngredients.SAUSAGE,\n",
                "            ],\n",
                "            vegetables=[\n",
                "                PizzaIngredients.MUSHROOMS,\n",
                "                PizzaIngredients.ONIONS,\n",
                "                PizzaIngredients.PEPPER,\n",
                "            ],\n",
                "        ),\n",
                "        Pizza(\n",
                "            sauce=PizzaIngredients.CREAM_SAUCE,\n",
                "            dough=PizzaIngredients.CLASSIC_DOUGH,\n",
                "            cheese=[PizzaIngredients.MOZZARELA],\n",
                "            fruits=[PizzaIngredients.PINEAPPLE],\n",
                "            meat=[PizzaIngredients.BACON, PizzaIngredients.HAM],\n",
                "            vegetables=[PizzaIngredients.ONIONS],\n",
                "        ),\n",
                "        Pizza(\n",
                "            sauce=PizzaIngredients.TOMATO_SAUCE,\n",
                "            dough=PizzaIngredients.THIN_DOUGH,\n",
                "            cheese=[PizzaIngredients.CHEDDAR],\n",
                "            fruits=[PizzaIngredients.APPLE],\n",
                "            meat=[PizzaIngredients.SAUSAGE],\n",
                "            vegetables=[PizzaIngredients.MUSHROOMS, PizzaIngredients.PEPPER],\n",
                "        ),\n",
                "        Pizza(\n",
                "            sauce=PizzaIngredients.CREAM_SAUCE,\n",
                "            dough=PizzaIngredients.WHOLEMEAL_DOUGH,\n",
                "            cheese=[PizzaIngredients.MOZZARELA, PizzaIngredients.CHEDDAR],\n",
                "            fruits=[PizzaIngredients.PINEAPPLE, PizzaIngredients.APPLE],\n",
                "            meat=[\n",
                "                PizzaIngredients.BACON,\n",
                "                PizzaIngredients.HAM,\n",
                "                PizzaIngredients.SAUSAGE,\n",
                "            ],\n",
                "            vegetables=[\n",
                "                PizzaIngredients.MUSHROOMS,\n",
                "                PizzaIngredients.ONIONS,\n",
                "                PizzaIngredients.PEPPER,\n",
                "            ],\n",
                "        ),\n",
                "        Pizza(\n",
                "            sauce=PizzaIngredients.TOMATO_SAUCE,\n",
                "            dough=PizzaIngredients.CLASSIC_DOUGH,\n",
                "            cheese=[PizzaIngredients.MOZZARELA],\n",
                "            fruits=[PizzaIngredients.PINEAPPLE],\n",
                "            meat=[PizzaIngredients.BACON, PizzaIngredients.HAM],\n",
                "            vegetables=[PizzaIngredients.ONIONS],\n",
                "        ),\n",
                "    ]\n",
                ")\n"
            ]
        },
        {
            "cell_type": "code",
            "execution_count": 3,
            "metadata": {},
            "outputs": [],
            "source": [
                "# create a dataframe with the menu using the to_dataframe method you have implemented in the PizzaMenu class\n",
                "# and display it\n"
            ]
        },
        {
            "cell_type": "code",
            "execution_count": 4,
            "metadata": {},
            "outputs": [],
            "source": [
                "# compute basic descriptive statistics for the menu.\n",
                "# pay a special attention to the price column, as it is the most important one\n",
                "\n",
                "# Following steps are optional, but recommended:\n",
                "# 1. Create a boxplot for the price column\n",
                "# 2. Create a histogram for the price column\n",
                "# 3. Create a scatter plot for the price column and any other column of your choice\n"
            ]
        },
        {
            "cell_type": "code",
            "execution_count": 5,
            "metadata": {},
            "outputs": [],
            "source": [
                "# Try to answer follwing question:\n",
                "# 1. How much will price change on average if we increase the amount of protein in the pizza by 1 unit?\n",
                "# 2. How much will price change on average if we increase the amount of average_fat in the pizza by 1 unit?\n",
                "# 3. How much will price change on average if we increase the amount of carbohydrates in the pizza by 1 unit?\n",
                "\n",
                "# Hint: use functions that you have implemented in the pizza_sensitivities.py\n"
            ]
        },
        {
            "cell_type": "code",
            "execution_count": 6,
            "metadata": {},
            "outputs": [],
            "source": [
                "# Compute Taste at Risk (TaR) for each pizza in the menu and for the whole menu and briefly comment on the results\n",
                "# Use quantile = 0.1\n",
                "# Answer following question:\n",
                "# 1. Does the sum of TaR for each pizza in the menu equal to the TaR of the whole menu and why?\n",
                "\n",
                "# Hint: use functions that you have implemented in the taste_at_risk.py\n"
            ]
        },
        {
            "cell_type": "code",
            "execution_count": 7,
            "metadata": {},
            "outputs": [],
            "source": [
                "# Compute Conditional Taste at Risk (CTaR) for each pizza in the menu and for the whole menu and briefly comment on the results\n",
                "\n",
                "# Hint: use functions that you have implemented in the taste_at_risk.py\n"
            ]
        },
        {
            "cell_type": "code",
            "execution_count": 8,
            "metadata": {},
            "outputs": [],
            "source": [
                "# Define constraints_values and constraints_ingredients and find the optimal pizza using the func maximize_taste_penalty_price, that you have implemented in the pizza_optimizer.py\n",
                "# Use lambda_param = 0.5\n",
                "\n",
                "# Add this pizza to the menu using the add_pizza method of the PizzaMenu class\n"
            ]
        },
        {
            "cell_type": "code",
            "execution_count": 9,
            "metadata": {},
            "outputs": [],
            "source": [
                "# Compute the new TaR and CTaR for the whole new menu with added pizza\n"
            ]
        },
        {
            "cell_type": "code",
            "execution_count": 10,
            "metadata": {},
            "outputs": [],
            "source": [
                "# Compare old and new TaR and CTaR and briefly comment on the results."
            ]
        }
    ],
    "metadata": {
        "kernelspec": {
            "display_name": "pizza-maker-awB5Ok4Q-py3.10",
            "language": "python",
            "name": "python3"
        },
        "language_info": {
            "codemirror_mode": {
                "name": "ipython",
                "version": 3
            },
            "file_extension": ".py",
            "mimetype": "text/x-python",
            "name": "python",
            "nbconvert_exporter": "python",
            "pygments_lexer": "ipython3",
            "version": "3.10.6"
        },
        "orig_nbformat": 4
    },
    "nbformat": 4,
    "nbformat_minor": 2
}
